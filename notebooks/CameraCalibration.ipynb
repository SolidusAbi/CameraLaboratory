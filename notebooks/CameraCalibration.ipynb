{
 "cells": [
  {
   "cell_type": "code",
   "execution_count": null,
   "metadata": {},
   "outputs": [],
   "source": [
    "from matplotlib import pyplot as plt\n",
    "\n",
    "import os, yaml, random, natsort\n",
    "import numpy as np\n",
    "import cv2\n",
    "\n",
    "from functools import reduce\n",
    "from itertools import compress"
   ]
  },
  {
   "cell_type": "markdown",
   "metadata": {},
   "source": [
    "# Camera"
   ]
  },
  {
   "cell_type": "markdown",
   "metadata": {},
   "source": [
    "The relationship between the 3D point **'X'** and its image projection **'x'** is given by:\n",
    "\n",
    "\n",
    "\\begin{align}\n",
    "sx = K\\begin{vmatrix} R & t\\end{vmatrix}X = PX\n",
    "\\end{align}\n",
    "\n",
    "\\begin{align}\n",
    "P = K\\begin{vmatrix} R & t\\end{vmatrix}\n",
    "\\end{align}\n",
    "\n",
    "\n",
    "where **'s'** is an arbitrary scale factor, (**'R'**, **'t'**), called the **extrinsic parameters** is the rotation and translation which relates the world coordinate system to camera coordinate system and **'K'** is the camera **instrinsic matrix**. The 3x4 matrix **'P'** is called the camera **projection matrix**."
   ]
  },
  {
   "cell_type": "code",
   "execution_count": null,
   "metadata": {},
   "outputs": [],
   "source": [
    "class Camera(object):\n",
    "    def __init__(self, camera_id:str):\n",
    "        super().__init__()\n",
    "        self.camera_id = camera_id\n",
    "        \n",
    "        self.K = np.eye(3, dtype=np.float64).reshape((3,3))\n",
    "        self.R = np.eye(3, dtype=np.float64).reshape((3,3))\n",
    "        self.T = np.zeros(3, dtype=np.float64).reshape((3,1))\n",
    "        self.P = np.dot(self.getIntrisicMatrix(), self.getExtrinsicMatrix()).reshape((3,4))\n",
    "        self.dist_coeff = np.zeros((5,1), dtype=np.float64)\n",
    "    \n",
    "    def getIntrisicMatrix(self):\n",
    "        return self.K\n",
    "    \n",
    "    def getIntrisicParameters(self):\n",
    "        return self.K, self.dist_coeff\n",
    "    \n",
    "    def getExtrinsicMatrix(self):\n",
    "        return np.concatenate((self.R, self.T), axis=1).reshape((3,4))\n",
    "    \n",
    "    def getExtrinsicParameters(self):\n",
    "        return self.R, self.T\n",
    "    \n",
    "    def getProjectionMatrix(self):\n",
    "        return self.P\n",
    "    \n",
    "    def saveCameraConfig(self, save_path):\n",
    "        data = {'K':          np.asarray(self.K).tolist(), \n",
    "                'dist_coeff': np.asarray(self.dist_coeff).tolist()}\n",
    "        try:\n",
    "            with open(os.path.join(save_path, self.camera_id+\".yaml\"), \"w\") as f:\n",
    "                yaml.dump(data, f)\n",
    "        except FileNotFoundError:\n",
    "            print('Path does not exist')\n",
    "            \n",
    "    def loadCameraConfig(self, config_path):\n",
    "        try:\n",
    "            with open(config_path) as f:\n",
    "                loaded_dict = yaml.load(f, Loader=yaml.FullLoader)\n",
    "                \n",
    "                self.K = np.asarray(loaded_dict.get('K')).reshape((3, 3))\n",
    "                self.dist_coeff = np.asarray(loaded_dict.get('dist_coeff')).reshape((5, 1))\n",
    "        except FileNotFoundError:\n",
    "            print('File does not exist')"
   ]
  },
  {
   "cell_type": "markdown",
   "metadata": {},
   "source": [
    "# Simple Calibration (Intrinsic parameters)"
   ]
  },
  {
   "cell_type": "markdown",
   "metadata": {},
   "source": [
    "The task of camera calibration is to determine the parameters of thetransformation between an object in 3D space and the 2D image observed by the camera from visual information (images). The transformation includes:\n",
    "\n",
    "- **Extrinsic parameters**: **orientation** (rotation) and **location** (translation) of the camera, i.e., (**R, t**);\n",
    "\n",
    "- **Intrinsic parameters** (**K**):  characteristics of the camera where\n",
    "\n",
    "\\begin{align}\n",
    "K = \\begin{vmatrix} \n",
    "        \\alpha & \\rho & u_0 \\\\\n",
    "        0 & \\beta & v_0 \\\\\n",
    "        0 & 0 & 1 \n",
    "    \\end{vmatrix}\n",
    "\\end{align}\n",
    "\n",
    "The **rotation matrix**, although consisting of 9 elements, only **has 3 degrees of freedom**. The **translation vector has 3 parameters**. Therefore, there are 6 extrinsic parameters and 5 intrinsic parameters, leading to in total 11 parameters"
   ]
  },
  {
   "cell_type": "code",
   "execution_count": null,
   "metadata": {},
   "outputs": [],
   "source": [
    "from IPython.display import clear_output\n",
    "import time\n",
    "\n",
    "class CameraCalibrator(object):\n",
    "    def __init__(self, camera:Camera, board_size=(9,6), flags=cv2.CALIB_CB_FAST_CHECK):\n",
    "        self.board_size = board_size\n",
    "        self.flags = flags\n",
    "        self.calibrated = False\n",
    "        self.img_size = (0, 0)\n",
    "        \n",
    "        # Arrays to store object points and image points from all the images.\n",
    "        self.filenames = []       # Name of the images that have been used for calibration\n",
    "        self.find_corners = []    # Index of images that worked, finding corners\n",
    "        self.objpoints = []       # 3d point in real world space\n",
    "        self.imgpoints = []       # 2d points in image plane.\n",
    "        \n",
    "        # Camera to calibrate, there you will find the parameters to calibrate \n",
    "        # (intrinsic matrix [K] and distortion coefficient)\n",
    "        self.camera = camera\n",
    "    \n",
    "    def findChessboardCorners(self, img_dir, show=False):\n",
    "        # prepare object points, like (0,0,0), (1,0,0), (2,0,0) ....,(6,5,0)\n",
    "        board_elements = reduce(lambda x, y: x*y, self.board_size)\n",
    "        objp = np.zeros((board_elements,3), np.float32)\n",
    "        objp[:,:2] = np.mgrid[0:self.board_size[0],0:self.board_size[1]].T.reshape(-1,2)\n",
    "        \n",
    "        # Arrays to store object points and image points from all the images.\n",
    "        self.filenames = []       # Name of the images that have been used for calibration\n",
    "        self.find_corners = []    # Index of images that worked, finding corners\n",
    "        self.objpoints = []       # 3d point in real world space\n",
    "        self.imgpoints = []       # 2d points in image plane.\n",
    "        \n",
    "        # termination criteria (subpixel process)\n",
    "        criteria = (cv2.TERM_CRITERIA_EPS + cv2.TERM_CRITERIA_MAX_ITER, 30, 0.001)\n",
    "        \n",
    "        img_files = natsort.natsorted(os.listdir(img_dir))\n",
    "        for img_file in img_files:\n",
    "            self.filenames.append(os.path.join(img_dir, img_file))\n",
    "            img = cv2.imread(os.path.join(img_dir, img_file))\n",
    "            if len(img.shape) == 3 and img.shape[2] == 3:\n",
    "                gray = cv2.cvtColor(img, cv2.COLOR_BGR2GRAY)\n",
    "            else:\n",
    "                gray = img\n",
    "            \n",
    "            ret, corners = cv2.findChessboardCorners(gray, self.board_size, flags = cv2.CALIB_CB_ADAPTIVE_THRESH |\n",
    "                    cv2.CALIB_CB_NORMALIZE_IMAGE | self.flags)\n",
    "            \n",
    "            # If found image points, refine them\n",
    "            if isinstance(corners, np.ndarray):\n",
    "                corners = cv2.cornerSubPix(gray,corners,(11,11),(-1,-1),criteria)\n",
    "                        \n",
    "            self.find_corners.append(ret)\n",
    "            self.objpoints.append(objp)\n",
    "            self.imgpoints.append(corners)\n",
    "     \n",
    "            if ret and show:    \n",
    "                # Draw and display the corners\n",
    "                cv2.drawChessboardCorners(img, self.board_size, corners, ret)\n",
    "                fig = plt.figure(figsize=(10, 10))\n",
    "                plt.imshow(img)\n",
    "                plt.title('Calibration')\n",
    "                plt.xticks([])\n",
    "                plt.yticks([]) \n",
    "                plt.show()    \n",
    "                time.sleep(0.4)\n",
    "                clear_output(wait=True)\n",
    "        \n",
    "        self.img_size = gray.shape[::-1]\n",
    "        \n",
    "    \n",
    "    def calibrate(self, img_dir, show_calibration=False):\n",
    "        self.findChessboardCorners(img_dir, show_calibration)\n",
    "        \n",
    "        cv2.calibrateCamera(\n",
    "            self.getObjPoints(), self.getImgPoints(),\n",
    "            self.img_size, self.camera.K,\n",
    "            self.camera.dist_coeff,\n",
    "            flags = self.flags\n",
    "        )\n",
    "        \n",
    "        self.calibrated = True\n",
    "            \n",
    "    def getIntrisicCameraParameters(self):\n",
    "        return self.camera.getIntrisicParameters()\n",
    "    \n",
    "    def getExtrinsicCameraParameters(self):\n",
    "        return self.camera.getExtrinsicParameters()\n",
    "        #return self.R, self.P\n",
    "    \n",
    "    def mapCameraCoordinateToPixelCoordinate(self, pixel_scaling_factor):\n",
    "        if not self.calibrated:\n",
    "            return\n",
    "            \n",
    "        new_intrinsics, roi = cv2.getOptimalNewCameraMatrix(self.camera.K. self.camera.dist_coeff,\n",
    "                                                            self.image_size, pixel_scaling_factor)\n",
    "        return new_intrinsics, roi\n",
    "    \n",
    "    def getPoints(self, ignore_none=True):\n",
    "        ''' \n",
    "            return object points (points in world coordinates) and the image points\n",
    "            (points in images coordinates).\n",
    "            \n",
    "            @params ignore_none: Used to ignore None points generated because in this image the algorithm\n",
    "                was no able to find the corners.\n",
    "        '''\n",
    "        return self.getObjPoints(ignore_none), self.getImgPoints(ignore_none)\n",
    "    \n",
    "    def getImgPoints(self, ignore_none=True):\n",
    "        ''' \n",
    "            return image points(points in images coordinates)\n",
    "            \n",
    "            @params ignore_none: Used to ignore None points generated because in this image the algorithm\n",
    "                was no able to find the corners.\n",
    "        '''\n",
    "        if ignore_none:\n",
    "            return list(compress(self.imgpoints, self.find_corners))\n",
    "        else:\n",
    "            return self.imgpoints\n",
    "    \n",
    "    def getObjPoints(self, ignore_none=True):\n",
    "        ''' \n",
    "            return object points (points in world coordinates)\n",
    "            \n",
    "            @params ignore_none: Used to ignore None points generated because in this image the algorithm\n",
    "                was no able to find the corners.\n",
    "        '''\n",
    "        if ignore_none:\n",
    "            return list(compress(self.objpoints, self.find_corners))\n",
    "        else:\n",
    "            return self.objpoints\n",
    "        \n",
    "    def getImagesFilenames(self, ignore_none=True):\n",
    "        if ignore_none:\n",
    "            return list(compress(self.filenames, self.find_corners))\n",
    "        else:\n",
    "            return self.filenames\n",
    "    \n",
    "    def getImagesCalibrated(self):\n",
    "        return self.find_corners\n",
    "    \n",
    "    def getImagesAndPoints(self):\n",
    "        return self.getImagesCalibrated(), self.getObjPoints(), self.getImgPoints()"
   ]
  },
  {
   "cell_type": "markdown",
   "metadata": {},
   "source": [
    "# Testing camera calibration"
   ]
  },
  {
   "cell_type": "markdown",
   "metadata": {},
   "source": [
    "### Tools\n",
    "The following functions ...."
   ]
  },
  {
   "cell_type": "code",
   "execution_count": null,
   "metadata": {},
   "outputs": [],
   "source": [
    "def undistortImage(img, camera):\n",
    "    '''\n",
    "        return a undistorted image using the Intrisic parameters of our Camera object.\n",
    "        \n",
    "        @params img: image which will be undistorted using the camera intrisic parameters.\n",
    "        @params camera: Object wich contains the intrisic and extrinsic parameters of the Camera\n",
    "    '''\n",
    "    w,h = img.shape[:2]\n",
    "    newcameramatrix, roi = cv2.getOptimalNewCameraMatrix(camera.K, camera.dist_coeff, (w,h), 1, (w,h))\n",
    "    return cv2.undistort(img, camera.K, camera.dist_coeff, None, newcameramatrix)\n",
    "\n",
    "def showUndistortImage(img, camera):\n",
    "    '''\n",
    "        Using matplotlib, show the undistorted images\n",
    "        \n",
    "        @params img: image which will be undistorted using the camera intrisic parameters.\n",
    "        @params camera: Object wich contains the intrisic and extrinsic parameters of the Camera\n",
    "    '''\n",
    "    imgs = [img, undistortImage(img, camera)]\n",
    "    \n",
    "    fig = plt.figure(figsize=(20, 20))\n",
    "    for imgIdx in range(len(imgs)):\n",
    "        ax = plt.subplot(1,2,imgIdx+1)\n",
    "        plt.xticks([])\n",
    "        plt.yticks([])   \n",
    "        ax.imshow(imgs[imgIdx], cmap='gray')\n",
    "    \n",
    "    plt.show()"
   ]
  },
  {
   "cell_type": "markdown",
   "metadata": {},
   "source": [
    "### Synthetic test (Using OpenCV dataset)"
   ]
  },
  {
   "cell_type": "markdown",
   "metadata": {},
   "source": [
    "It is necessary to create our `Camera` which will contain the **extrinsic** and **intrisic parameters**. Anyway, in order to calculate that parameters, it is necessary to use a `CameraCalibrator` which is necessary to pass the `Camera` that will be processed and the size of the `chessboard` that was used to calibrate our `Camera`. In this example, using OpenCV test, the `chessboard size` corresponds to (6,7)."
   ]
  },
  {
   "cell_type": "code",
   "execution_count": null,
   "metadata": {},
   "outputs": [],
   "source": [
    "myCamera = Camera(\"MyCameraName\")\n",
    "myCalibrator = CameraCalibrator(myCamera, board_size=(6,7))"
   ]
  },
  {
   "cell_type": "markdown",
   "metadata": {},
   "source": [
    "The `CameraCalibrator` contains a function called `calibrate()` which is necessary to pass the directory where are located our images captured by the `Camera`. The `show_calibration` parameter allows you to see the steps where the points on the chessboard are calculated.\n",
    "\n",
    "**Important:** Some times OpenCV has several problems with GTK and `show_calibration` parameter is not able to use. This problem is presented on Linux."
   ]
  },
  {
   "cell_type": "code",
   "execution_count": null,
   "metadata": {},
   "outputs": [],
   "source": [
    "myCalibrator.calibrate(\"../images/Calibration/\", show_calibration=True)"
   ]
  },
  {
   "cell_type": "markdown",
   "metadata": {},
   "source": [
    "#### Visualization"
   ]
  },
  {
   "cell_type": "markdown",
   "metadata": {},
   "source": [
    "Random image per execution..."
   ]
  },
  {
   "cell_type": "code",
   "execution_count": null,
   "metadata": {},
   "outputs": [],
   "source": [
    "images = myCalibrator.getImagesFilenames()\n",
    "img_idx = random.randint(0, len(images)-1)\n",
    "img = cv2.imread(images[img_idx], 0)\n",
    "\n",
    "showUndistortImage(img, myCamera)"
   ]
  },
  {
   "cell_type": "markdown",
   "metadata": {},
   "source": [
    "#### Save calibration"
   ]
  },
  {
   "cell_type": "markdown",
   "metadata": {},
   "source": [
    "The `Camera` parameters can be saved in a external file. For this purpose, the `saveCameraConfig` was implemented and the only parameter is the path where the file will be saved. The filename has the following structure: `[Camera name].yaml`."
   ]
  },
  {
   "cell_type": "code",
   "execution_count": null,
   "metadata": {},
   "outputs": [],
   "source": [
    "myCamera.saveCameraConfig(\".\")"
   ]
  },
  {
   "cell_type": "markdown",
   "metadata": {},
   "source": [
    "#### Load a previous calibration"
   ]
  },
  {
   "cell_type": "markdown",
   "metadata": {},
   "source": [
    "Parameter: `[Camera name].yaml` location..."
   ]
  },
  {
   "cell_type": "code",
   "execution_count": null,
   "metadata": {},
   "outputs": [],
   "source": [
    "myCamera.loadCameraConfig(\"./MyCameraName.yaml\")"
   ]
  },
  {
   "cell_type": "code",
   "execution_count": null,
   "metadata": {},
   "outputs": [],
   "source": []
  }
 ],
 "metadata": {
  "kernelspec": {
   "display_name": "Python 3",
   "language": "python",
   "name": "python3"
  },
  "language_info": {
   "codemirror_mode": {
    "name": "ipython",
    "version": 3
   },
   "file_extension": ".py",
   "mimetype": "text/x-python",
   "name": "python",
   "nbconvert_exporter": "python",
   "pygments_lexer": "ipython3",
   "version": "3.6.10"
  }
 },
 "nbformat": 4,
 "nbformat_minor": 4
}
